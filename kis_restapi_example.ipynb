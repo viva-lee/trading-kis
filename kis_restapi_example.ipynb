{
 "cells": [
  {
   "cell_type": "markdown",
   "metadata": {},
   "source": [
    "# 한국투자증권 REST API"
   ]
  },
  {
   "cell_type": "markdown",
   "metadata": {},
   "source": [
    "## 1. 서비스 연결(Oauth)"
   ]
  },
  {
   "cell_type": "code",
   "execution_count": 2,
   "metadata": {},
   "outputs": [],
   "source": [
    "import requests # HTTP 요청을 보낼 때\n",
    "import json # 특정 객체를 JSON 데이터로 만들어서 쓰기 위해\n",
    "from config.oauth import *"
   ]
  },
  {
   "cell_type": "code",
   "execution_count": 33,
   "metadata": {},
   "outputs": [],
   "source": [
    "# 모의투자\n",
    "URL_BASE = \"https://openapivts.koreainvestment.com:29443\""
   ]
  },
  {
   "cell_type": "code",
   "execution_count": 34,
   "metadata": {},
   "outputs": [],
   "source": [
    "headers = {\n",
    "    \"content-type\": \"application/json\"\n",
    "    }\n",
    "body = {\n",
    "    \"grant_type\": \"client_credentials\",\n",
    "    \"appkey\": APP_KEY,\n",
    "    \"appsecret\": APP_SECRET\n",
    "    }\n",
    "PATH = \"oauth2/tokenP\""
   ]
  },
  {
   "cell_type": "code",
   "execution_count": 35,
   "metadata": {},
   "outputs": [
    {
     "name": "stdout",
     "output_type": "stream",
     "text": [
      "https://openapivts.koreainvestment.com:29443/oauth2/tokenP\n"
     ]
    }
   ],
   "source": [
    "URL = f\"{URL_BASE}/{PATH}\"\n",
    "print(URL)"
   ]
  },
  {
   "cell_type": "code",
   "execution_count": 36,
   "metadata": {},
   "outputs": [],
   "source": [
    "res = requests.post(URL, headers=headers, data=json.dumps(body))"
   ]
  },
  {
   "cell_type": "code",
   "execution_count": 37,
   "metadata": {},
   "outputs": [],
   "source": [
    "# 보안인증키 : access_token\n",
    "ACCESS_TOKEN = res.json()[\"access_token\"]"
   ]
  },
  {
   "cell_type": "markdown",
   "metadata": {},
   "source": [
    "## 2. 주식현재가 조회\n",
    "### 현재가 : FHKST01010100\n",
    "### 일자별 : FHKST01010400"
   ]
  },
  {
   "cell_type": "code",
   "execution_count": 65,
   "metadata": {},
   "outputs": [
    {
     "name": "stdout",
     "output_type": "stream",
     "text": [
      "https://openapivts.koreainvestment.com:29443/uapi/domestic-stock/v1/quotations/inquire-price\n"
     ]
    }
   ],
   "source": [
    "# 현재가 조회\n",
    "PATH = \"uapi/domestic-stock/v1/quotations/inquire-price\"\n",
    "URL = f\"{URL_BASE}/{PATH}\"\n",
    "print(URL)\n",
    "\n",
    "headers = {\n",
    "    \"content-type\": \"application/json\",\n",
    "    \"authorization\": f\"Bearer {ACCESS_TOKEN}\",\n",
    "    \"appkey\": APP_KEY,\n",
    "    \"appsecret\": APP_SECRET,\n",
    "    \"tr_id\": \"FHKST01010100\"\n",
    "    }\n",
    "\n",
    "params = {\n",
    "    \"fid_cond_mrkt_div_code\": \"J\",\n",
    "    \"fid_input_iscd\": \"005930\"\n",
    "}"
   ]
  },
  {
   "cell_type": "code",
   "execution_count": 66,
   "metadata": {},
   "outputs": [],
   "source": [
    "res = requests.get(URL, headers=headers, params=params)"
   ]
  },
  {
   "cell_type": "code",
   "execution_count": 69,
   "metadata": {},
   "outputs": [
    {
     "data": {
      "text/plain": [
       "'59100'"
      ]
     },
     "execution_count": 69,
     "metadata": {},
     "output_type": "execute_result"
    }
   ],
   "source": [
    "res.json()[\"output\"][\"stck_prpr\"]"
   ]
  },
  {
   "cell_type": "code",
   "execution_count": 70,
   "metadata": {},
   "outputs": [],
   "source": [
    "# 일자별 조회\n",
    "PATH = \"uapi/domestic-stock/v1/quotations/inquire-daily-price\"\n",
    "URL = f\"{URL_BASE}/{PATH}\"\n",
    "headers[\"tr_id\"] = \"FHKST01010400\"\n",
    "\n",
    "params = {\n",
    "    \"fid_cond_mrkt_div_code\": \"J\",\n",
    "    \"fid_input_iscd\": \"005930\",\n",
    "    \"fid_org_adj_prc\": \"1\",\n",
    "    \"fid_period_div_code\": \"D\"\n",
    "}"
   ]
  },
  {
   "cell_type": "code",
   "execution_count": 71,
   "metadata": {},
   "outputs": [],
   "source": [
    "res = requests.get(URL, headers=headers, params=params)"
   ]
  },
  {
   "cell_type": "code",
   "execution_count": 82,
   "metadata": {},
   "outputs": [
    {
     "data": {
      "text/plain": [
       "30"
      ]
     },
     "execution_count": 82,
     "metadata": {},
     "output_type": "execute_result"
    }
   ],
   "source": [
    "len(res.json()[\"output\"])"
   ]
  },
  {
   "cell_type": "code",
   "execution_count": 83,
   "metadata": {},
   "outputs": [
    {
     "data": {
      "text/plain": [
       "{'stck_bsop_date': '20220823',\n",
       " 'stck_oprc': '59000',\n",
       " 'stck_hgpr': '59600',\n",
       " 'stck_lwpr': '59000',\n",
       " 'stck_clpr': '59100',\n",
       " 'acml_vol': '9041629',\n",
       " 'prdy_vrss_vol_rate': '9.46',\n",
       " 'prdy_vrss': '-900',\n",
       " 'prdy_vrss_sign': '5',\n",
       " 'prdy_ctrt': '-1.50',\n",
       " 'hts_frgn_ehrt': '49.80',\n",
       " 'frgn_ntby_qty': '-651415',\n",
       " 'flng_cls_code': '00',\n",
       " 'acml_prtt_rate': '1.00'}"
      ]
     },
     "execution_count": 83,
     "metadata": {},
     "output_type": "execute_result"
    }
   ],
   "source": [
    "res.json()[\"output\"][0]"
   ]
  }
 ],
 "metadata": {
  "kernelspec": {
   "display_name": "Python 3.7.13 ('py37_32')",
   "language": "python",
   "name": "python3"
  },
  "language_info": {
   "codemirror_mode": {
    "name": "ipython",
    "version": 3
   },
   "file_extension": ".py",
   "mimetype": "text/x-python",
   "name": "python",
   "nbconvert_exporter": "python",
   "pygments_lexer": "ipython3",
   "version": "3.7.13"
  },
  "orig_nbformat": 4,
  "vscode": {
   "interpreter": {
    "hash": "41fd7d6dba8bd36a040c6d379dbccdd8da4659916f400a52deb4f18fc7e5e90b"
   }
  }
 },
 "nbformat": 4,
 "nbformat_minor": 2
}
