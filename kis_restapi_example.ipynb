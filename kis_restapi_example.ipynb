{
 "cells": [
  {
   "cell_type": "markdown",
   "metadata": {},
   "source": [
    "# 한국투자증권 REST API"
   ]
  },
  {
   "cell_type": "markdown",
   "metadata": {},
   "source": [
    "## 1. 서비스 연결(Oauth)"
   ]
  },
  {
   "cell_type": "code",
   "execution_count": 1,
   "metadata": {},
   "outputs": [],
   "source": [
    "import requests # HTTP 요청을 보낼 때\n",
    "import json # 특정 객체를 JSON 데이터로 만들어서 쓰기 위해\n",
    "import yaml"
   ]
  },
  {
   "cell_type": "code",
   "execution_count": 5,
   "metadata": {},
   "outputs": [],
   "source": [
    "with open(\"config.yaml\", encoding=\"UTF-8\") as f:\n",
    "    cfg = yaml.load(f, Loader=yaml.FullLoader)\n",
    "    \n",
    "APP_KEY = cfg[\"APP_KEY\"]\n",
    "APP_SECRET = cfg[\"APP_SECRET\"]\n",
    "ACCESS_TOKEN = \"\"\n",
    "CANO = cfg[\"CANO\"]\n",
    "ACNT_PRDT_CD = cfg[\"ACNT_PRDT_CD\"]\n",
    "URL_BASE = cfg[\"URL_BASE\"]"
   ]
  },
  {
   "cell_type": "code",
   "execution_count": 3,
   "metadata": {},
   "outputs": [
    {
     "name": "stdout",
     "output_type": "stream",
     "text": [
      "https://openapivts.koreainvestment.com:29443/oauth2/tokenP\n"
     ]
    }
   ],
   "source": [
    "headers = {\n",
    "    \"content-type\": \"application/json\"\n",
    "    }\n",
    "body = {\n",
    "    \"grant_type\": \"client_credentials\",\n",
    "    \"appkey\": APP_KEY,\n",
    "    \"appsecret\": APP_SECRET\n",
    "    }\n",
    "PATH = \"oauth2/tokenP\"\n",
    "\n",
    "URL = f\"{URL_BASE}/{PATH}\"\n",
    "print(URL)"
   ]
  },
  {
   "cell_type": "code",
   "execution_count": 4,
   "metadata": {},
   "outputs": [],
   "source": [
    "res = requests.post(URL, headers=headers, data=json.dumps(body))"
   ]
  },
  {
   "cell_type": "code",
   "execution_count": 5,
   "metadata": {},
   "outputs": [],
   "source": [
    "# 보안인증키 : access_token\n",
    "ACCESS_TOKEN = res.json()[\"access_token\"]"
   ]
  },
  {
   "cell_type": "markdown",
   "metadata": {},
   "source": [
    "## 2. 주식현재가 조회\n",
    "### 현재가 : FHKST01010100\n",
    "### 일자별 : FHKST01010400"
   ]
  },
  {
   "cell_type": "code",
   "execution_count": 6,
   "metadata": {},
   "outputs": [
    {
     "name": "stdout",
     "output_type": "stream",
     "text": [
      "https://openapivts.koreainvestment.com:29443/uapi/domestic-stock/v1/quotations/inquire-price\n"
     ]
    }
   ],
   "source": [
    "# 현재가 조회\n",
    "PATH = \"uapi/domestic-stock/v1/quotations/inquire-price\"\n",
    "URL = f\"{URL_BASE}/{PATH}\"\n",
    "print(URL)\n",
    "\n",
    "headers = {\n",
    "    \"content-type\": \"application/json\",\n",
    "    \"authorization\": f\"Bearer {ACCESS_TOKEN}\",\n",
    "    \"appkey\": APP_KEY,\n",
    "    \"appsecret\": APP_SECRET,\n",
    "    \"tr_id\": \"FHKST01010100\"\n",
    "    }\n",
    "\n",
    "params = {\n",
    "    \"fid_cond_mrkt_div_code\": \"J\",\n",
    "    \"fid_input_iscd\": \"005930\"\n",
    "}"
   ]
  },
  {
   "cell_type": "code",
   "execution_count": 7,
   "metadata": {},
   "outputs": [],
   "source": [
    "res = requests.get(URL, headers=headers, params=params)"
   ]
  },
  {
   "cell_type": "code",
   "execution_count": 8,
   "metadata": {},
   "outputs": [
    {
     "data": {
      "text/plain": [
       "'59700'"
      ]
     },
     "execution_count": 8,
     "metadata": {},
     "output_type": "execute_result"
    }
   ],
   "source": [
    "res.json()[\"output\"][\"stck_prpr\"]"
   ]
  },
  {
   "cell_type": "code",
   "execution_count": 9,
   "metadata": {},
   "outputs": [],
   "source": [
    "# 일자별 조회\n",
    "PATH = \"uapi/domestic-stock/v1/quotations/inquire-daily-price\"\n",
    "URL = f\"{URL_BASE}/{PATH}\"\n",
    "headers[\"tr_id\"] = \"FHKST01010400\"\n",
    "\n",
    "params = {\n",
    "    \"fid_cond_mrkt_div_code\": \"J\",\n",
    "    \"fid_input_iscd\": \"005930\",\n",
    "    \"fid_org_adj_prc\": \"1\",\n",
    "    \"fid_period_div_code\": \"D\"\n",
    "}"
   ]
  },
  {
   "cell_type": "code",
   "execution_count": 10,
   "metadata": {},
   "outputs": [],
   "source": [
    "res = requests.get(URL, headers=headers, params=params)"
   ]
  },
  {
   "cell_type": "code",
   "execution_count": 11,
   "metadata": {},
   "outputs": [
    {
     "data": {
      "text/plain": [
       "30"
      ]
     },
     "execution_count": 11,
     "metadata": {},
     "output_type": "execute_result"
    }
   ],
   "source": [
    "len(res.json()[\"output\"])"
   ]
  },
  {
   "cell_type": "code",
   "execution_count": 12,
   "metadata": {},
   "outputs": [
    {
     "data": {
      "text/plain": [
       "{'stck_bsop_date': '20220825',\n",
       " 'stck_oprc': '59200',\n",
       " 'stck_hgpr': '59700',\n",
       " 'stck_lwpr': '59000',\n",
       " 'stck_clpr': '59700',\n",
       " 'acml_vol': '5767902',\n",
       " 'prdy_vrss_vol_rate': '-35.11',\n",
       " 'prdy_vrss': '700',\n",
       " 'prdy_vrss_sign': '2',\n",
       " 'prdy_ctrt': '1.19',\n",
       " 'hts_frgn_ehrt': '49.81',\n",
       " 'frgn_ntby_qty': '207759',\n",
       " 'flng_cls_code': '00',\n",
       " 'acml_prtt_rate': '1.00'}"
      ]
     },
     "execution_count": 12,
     "metadata": {},
     "output_type": "execute_result"
    }
   ],
   "source": [
    "res.json()[\"output\"][0]"
   ]
  },
  {
   "cell_type": "markdown",
   "metadata": {},
   "source": [
    "## 3. 해쉬키 발급\n",
    "### 보안을 위한 요소로 사용자가 보낸 요청 값을 중간에 탈취하여 변조하지 못하도록 하는데 사용, POST로 보내는 요청(주문)"
   ]
  },
  {
   "cell_type": "code",
   "execution_count": 13,
   "metadata": {},
   "outputs": [
    {
     "name": "stdout",
     "output_type": "stream",
     "text": [
      "https://openapivts.koreainvestment.com:29443/uapi/hashkey\n"
     ]
    }
   ],
   "source": [
    "datas = {\n",
    "    \"CANO\": \"00000000\",\n",
    "    \"ACNT_PRDT_CD\": \"01\",\n",
    "    \"OVRS_EXCG_CD\": \"SHAA\",\n",
    "    \"PDNO\": \"00001\",\n",
    "    \"ORD_QTY\": \"500\",\n",
    "    \"OVRS_ORD_UNPR\": \"52.62\",\n",
    "    \"ORD_SVR_DVSN_CD\": \"0\"\n",
    "}\n",
    "\n",
    "headers = {\n",
    "    \"content-type\": \"application/json\",\n",
    "    \"appkey\": APP_KEY,\n",
    "    \"appsecret\": APP_SECRET\n",
    "}\n",
    "\n",
    "PATH = \"uapi/hashkey\"\n",
    "URL = f\"{URL_BASE}/{PATH}\"\n",
    "print(URL)"
   ]
  },
  {
   "cell_type": "code",
   "execution_count": 14,
   "metadata": {},
   "outputs": [],
   "source": [
    "res = requests.post(URL, headers=headers, data=json.dumps(datas))"
   ]
  },
  {
   "cell_type": "code",
   "execution_count": 15,
   "metadata": {},
   "outputs": [],
   "source": [
    "hashkey = res.json()[\"HASH\"]"
   ]
  },
  {
   "cell_type": "markdown",
   "metadata": {},
   "source": [
    "## 4-1. 매수 주문\n",
    "### tr_id : VTTC0802U"
   ]
  },
  {
   "cell_type": "code",
   "execution_count": 16,
   "metadata": {},
   "outputs": [],
   "source": [
    "def hashKey(datas):\n",
    "    PATH = \"uapi/hashkey\"\n",
    "    URL = f\"{URL_BASE}/{PATH}\"\n",
    "    headers = {\n",
    "        'content-Type' : 'application/json',\n",
    "        'appKey' : APP_KEY,\n",
    "        'appSecret' : APP_SECRET,\n",
    "        }\n",
    "    res = requests.post(URL, headers=headers, data=json.dumps(datas))\n",
    "    hashkey = res.json()[\"HASH\"]\n",
    "\n",
    "    return hashkey"
   ]
  },
  {
   "cell_type": "code",
   "execution_count": 17,
   "metadata": {},
   "outputs": [],
   "source": [
    "PATH = \"uapi/domestic-stock/v1/trading/order-cash\"\n",
    "URL = f\"{URL_BASE}/{PATH}\"\n",
    "\n",
    "data = {\n",
    "    \"CANO\": CANO,\n",
    "    \"ACNT_PRDT_CD\": ACNT_PRDT_CD,\n",
    "    \"PDNO\": \"005930\", # 종목\n",
    "    \"ORD_DVSN\": \"01\", # 시장가\n",
    "    \"ORD_QTY\": \"10\", # 수량\n",
    "    \"ORD_UNPR\": \"0\", # 시장가 주문\n",
    "    }\n",
    "\n",
    "headers = {\n",
    "    \"content-type\": \"application/json\", \n",
    "    \"authorization\": f\"Bearer {ACCESS_TOKEN}\",\n",
    "    \"appkey\": APP_KEY,\n",
    "    \"appsecret\": APP_SECRET,\n",
    "    \"tr_id\": \"VTTC0802U\",\n",
    "    \"custtype\": \"P\",\n",
    "    \"hashkey\" : hashKey(data)\n",
    "    }"
   ]
  },
  {
   "cell_type": "code",
   "execution_count": 18,
   "metadata": {},
   "outputs": [
    {
     "data": {
      "text/plain": [
       "{'rt_cd': '1', 'msg_cd': '40910000', 'msg1': '모의투자 주문이 불가한 계좌입니다.'}"
      ]
     },
     "execution_count": 18,
     "metadata": {},
     "output_type": "execute_result"
    }
   ],
   "source": [
    "res = requests.post(URL, headers=headers, data=json.dumps(data))\n",
    "res.json()"
   ]
  },
  {
   "cell_type": "code",
   "execution_count": null,
   "metadata": {},
   "outputs": [],
   "source": [
    "KRX_FWDG_ORD_ORGNO = res.json()[\"output\"][\"KRX_FWDG_ORD_ORGNO\"] # 한국거래소전송주문조직번호\n",
    "ODNO = res.json()[\"output\"][\"ODNO\"] # 주문번호"
   ]
  },
  {
   "cell_type": "markdown",
   "metadata": {},
   "source": [
    "## 4-2. 매도 주문"
   ]
  },
  {
   "cell_type": "code",
   "execution_count": null,
   "metadata": {},
   "outputs": [],
   "source": [
    "PATH = \"uapi/domestic-stock/v1/trading/order-cash\"\n",
    "URL = f\"{URL_BASE}/{PATH}\"\n",
    "\n",
    "data = {\n",
    "    \"CANO\": CANO,\n",
    "    \"ACNT_PRDT_CD\": ACNT_PRDT_CD,\n",
    "    \"PDNO\": \"005930\", # 종목\n",
    "    \"ORD_DVSN\": \"01\", # 시장가\n",
    "    \"ORD_QTY\": \"10\", # 수량\n",
    "    \"ORD_UNPR\": \"0\", # 시장가 주문\n",
    "    }\n",
    "\n",
    "headers = {\n",
    "    \"content-type\": \"application/json\", \n",
    "    \"authorization\": f\"Bearer {ACCESS_TOKEN}\",\n",
    "    \"appkey\": APP_KEY,\n",
    "    \"appsecret\": APP_SECRET,\n",
    "    \"tr_id\": \"VTTC0801U\",\n",
    "    \"custtype\": \"P\",\n",
    "    \"hashkey\" : hashKey(data)\n",
    "    }\n",
    "\n",
    "res = requests.post(URL, headers=headers, data=json.dumps(data))\n",
    "res.json()"
   ]
  }
 ],
 "metadata": {
  "kernelspec": {
   "display_name": "Python 3.7.13 ('py37_32')",
   "language": "python",
   "name": "python3"
  },
  "language_info": {
   "codemirror_mode": {
    "name": "ipython",
    "version": 3
   },
   "file_extension": ".py",
   "mimetype": "text/x-python",
   "name": "python",
   "nbconvert_exporter": "python",
   "pygments_lexer": "ipython3",
   "version": "3.7.13"
  },
  "orig_nbformat": 4,
  "vscode": {
   "interpreter": {
    "hash": "41fd7d6dba8bd36a040c6d379dbccdd8da4659916f400a52deb4f18fc7e5e90b"
   }
  }
 },
 "nbformat": 4,
 "nbformat_minor": 2
}
